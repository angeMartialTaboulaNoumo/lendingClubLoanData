{
  "cells": [
    {
      "cell_type": "code",
      "source": [],
      "metadata": {
        "id": "Iz-QUQTtAQxT"
      },
      "id": "Iz-QUQTtAQxT",
      "execution_count": null,
      "outputs": []
    },
    {
      "cell_type": "code",
      "execution_count": null,
      "id": "13ad32e0-8ff9-4293-89e7-b58199d79410",
      "metadata": {
        "id": "13ad32e0-8ff9-4293-89e7-b58199d79410"
      },
      "outputs": [],
      "source": [
        "import numpy as np\n",
        "import pandas as pd\n",
        "import seaborn as sns\n",
        "import matplotlib.pyplot as plt\n",
        "import pickle\n",
        "import os\n",
        "from sklearn.impute import SimpleImputer\n",
        "from sklearn.preprocessing import OneHotEncoder, StandardScaler, MinMaxScaler\n",
        "from sklearn.compose import ColumnTransformer\n",
        "from sklearn.model_selection import train_test_split\n",
        "from sklearn.pipeline import Pipeline\n",
        "\n",
        "import tensorflow as tf\n",
        "from tensorflow.keras import Sequential\n",
        "from tensorflow.keras.layers import Dense, Input, Dropout, BatchNormalization"
      ]
    },
    {
      "cell_type": "code",
      "execution_count": null,
      "id": "87a663c3-ab37-4cf8-a38b-188d7b6b330c",
      "metadata": {
        "id": "87a663c3-ab37-4cf8-a38b-188d7b6b330c",
        "outputId": "ae2eb80f-8e82-4254-bba3-e6358b3e8a71"
      },
      "outputs": [
        {
          "data": {
            "text/plain": [
              "'C:\\\\Users\\\\USER\\\\projects\\\\lending_club\\\\notebooks'"
            ]
          },
          "execution_count": 2,
          "metadata": {},
          "output_type": "execute_result"
        }
      ],
      "source": [
        "os.getcwd()"
      ]
    },
    {
      "cell_type": "code",
      "execution_count": null,
      "id": "61baf843-e1f9-4e8e-a978-d6fc78dffb58",
      "metadata": {
        "id": "61baf843-e1f9-4e8e-a978-d6fc78dffb58"
      },
      "outputs": [],
      "source": [
        "chemin = \"../datasets/accepted_2007_to_2018/accepted_2007_to_2018Q4.csv\"\n",
        "data = pd.read_csv(chemin, low_memory = False)"
      ]
    },
    {
      "cell_type": "code",
      "execution_count": null,
      "id": "8c7ffbdd-3207-424d-8ced-3c2fb582ca94",
      "metadata": {
        "id": "8c7ffbdd-3207-424d-8ced-3c2fb582ca94",
        "outputId": "ff6fdb13-5e69-4cdf-e7dc-0bfbb94dafdd"
      },
      "outputs": [
        {
          "data": {
            "text/html": [
              "<div>\n",
              "<style scoped>\n",
              "    .dataframe tbody tr th:only-of-type {\n",
              "        vertical-align: middle;\n",
              "    }\n",
              "\n",
              "    .dataframe tbody tr th {\n",
              "        vertical-align: top;\n",
              "    }\n",
              "\n",
              "    .dataframe thead th {\n",
              "        text-align: right;\n",
              "    }\n",
              "</style>\n",
              "<table border=\"1\" class=\"dataframe\">\n",
              "  <thead>\n",
              "    <tr style=\"text-align: right;\">\n",
              "      <th></th>\n",
              "      <th>id</th>\n",
              "      <th>member_id</th>\n",
              "      <th>loan_amnt</th>\n",
              "      <th>funded_amnt</th>\n",
              "      <th>funded_amnt_inv</th>\n",
              "      <th>term</th>\n",
              "      <th>int_rate</th>\n",
              "      <th>installment</th>\n",
              "      <th>grade</th>\n",
              "      <th>sub_grade</th>\n",
              "      <th>...</th>\n",
              "      <th>hardship_payoff_balance_amount</th>\n",
              "      <th>hardship_last_payment_amount</th>\n",
              "      <th>disbursement_method</th>\n",
              "      <th>debt_settlement_flag</th>\n",
              "      <th>debt_settlement_flag_date</th>\n",
              "      <th>settlement_status</th>\n",
              "      <th>settlement_date</th>\n",
              "      <th>settlement_amount</th>\n",
              "      <th>settlement_percentage</th>\n",
              "      <th>settlement_term</th>\n",
              "    </tr>\n",
              "  </thead>\n",
              "  <tbody>\n",
              "    <tr>\n",
              "      <th>0</th>\n",
              "      <td>68407277</td>\n",
              "      <td>NaN</td>\n",
              "      <td>3600.0</td>\n",
              "      <td>3600.0</td>\n",
              "      <td>3600.0</td>\n",
              "      <td>36 months</td>\n",
              "      <td>13.99</td>\n",
              "      <td>123.03</td>\n",
              "      <td>C</td>\n",
              "      <td>C4</td>\n",
              "      <td>...</td>\n",
              "      <td>NaN</td>\n",
              "      <td>NaN</td>\n",
              "      <td>Cash</td>\n",
              "      <td>N</td>\n",
              "      <td>NaN</td>\n",
              "      <td>NaN</td>\n",
              "      <td>NaN</td>\n",
              "      <td>NaN</td>\n",
              "      <td>NaN</td>\n",
              "      <td>NaN</td>\n",
              "    </tr>\n",
              "    <tr>\n",
              "      <th>1</th>\n",
              "      <td>68355089</td>\n",
              "      <td>NaN</td>\n",
              "      <td>24700.0</td>\n",
              "      <td>24700.0</td>\n",
              "      <td>24700.0</td>\n",
              "      <td>36 months</td>\n",
              "      <td>11.99</td>\n",
              "      <td>820.28</td>\n",
              "      <td>C</td>\n",
              "      <td>C1</td>\n",
              "      <td>...</td>\n",
              "      <td>NaN</td>\n",
              "      <td>NaN</td>\n",
              "      <td>Cash</td>\n",
              "      <td>N</td>\n",
              "      <td>NaN</td>\n",
              "      <td>NaN</td>\n",
              "      <td>NaN</td>\n",
              "      <td>NaN</td>\n",
              "      <td>NaN</td>\n",
              "      <td>NaN</td>\n",
              "    </tr>\n",
              "    <tr>\n",
              "      <th>2</th>\n",
              "      <td>68341763</td>\n",
              "      <td>NaN</td>\n",
              "      <td>20000.0</td>\n",
              "      <td>20000.0</td>\n",
              "      <td>20000.0</td>\n",
              "      <td>60 months</td>\n",
              "      <td>10.78</td>\n",
              "      <td>432.66</td>\n",
              "      <td>B</td>\n",
              "      <td>B4</td>\n",
              "      <td>...</td>\n",
              "      <td>NaN</td>\n",
              "      <td>NaN</td>\n",
              "      <td>Cash</td>\n",
              "      <td>N</td>\n",
              "      <td>NaN</td>\n",
              "      <td>NaN</td>\n",
              "      <td>NaN</td>\n",
              "      <td>NaN</td>\n",
              "      <td>NaN</td>\n",
              "      <td>NaN</td>\n",
              "    </tr>\n",
              "    <tr>\n",
              "      <th>3</th>\n",
              "      <td>66310712</td>\n",
              "      <td>NaN</td>\n",
              "      <td>35000.0</td>\n",
              "      <td>35000.0</td>\n",
              "      <td>35000.0</td>\n",
              "      <td>60 months</td>\n",
              "      <td>14.85</td>\n",
              "      <td>829.90</td>\n",
              "      <td>C</td>\n",
              "      <td>C5</td>\n",
              "      <td>...</td>\n",
              "      <td>NaN</td>\n",
              "      <td>NaN</td>\n",
              "      <td>Cash</td>\n",
              "      <td>N</td>\n",
              "      <td>NaN</td>\n",
              "      <td>NaN</td>\n",
              "      <td>NaN</td>\n",
              "      <td>NaN</td>\n",
              "      <td>NaN</td>\n",
              "      <td>NaN</td>\n",
              "    </tr>\n",
              "  </tbody>\n",
              "</table>\n",
              "<p>4 rows × 151 columns</p>\n",
              "</div>"
            ],
            "text/plain": [
              "         id  member_id  loan_amnt  funded_amnt  funded_amnt_inv        term  \\\n",
              "0  68407277        NaN     3600.0       3600.0           3600.0   36 months   \n",
              "1  68355089        NaN    24700.0      24700.0          24700.0   36 months   \n",
              "2  68341763        NaN    20000.0      20000.0          20000.0   60 months   \n",
              "3  66310712        NaN    35000.0      35000.0          35000.0   60 months   \n",
              "\n",
              "   int_rate  installment grade sub_grade  ... hardship_payoff_balance_amount  \\\n",
              "0     13.99       123.03     C        C4  ...                            NaN   \n",
              "1     11.99       820.28     C        C1  ...                            NaN   \n",
              "2     10.78       432.66     B        B4  ...                            NaN   \n",
              "3     14.85       829.90     C        C5  ...                            NaN   \n",
              "\n",
              "  hardship_last_payment_amount disbursement_method  debt_settlement_flag  \\\n",
              "0                          NaN                Cash                     N   \n",
              "1                          NaN                Cash                     N   \n",
              "2                          NaN                Cash                     N   \n",
              "3                          NaN                Cash                     N   \n",
              "\n",
              "  debt_settlement_flag_date settlement_status settlement_date  \\\n",
              "0                       NaN               NaN             NaN   \n",
              "1                       NaN               NaN             NaN   \n",
              "2                       NaN               NaN             NaN   \n",
              "3                       NaN               NaN             NaN   \n",
              "\n",
              "  settlement_amount settlement_percentage settlement_term  \n",
              "0               NaN                   NaN             NaN  \n",
              "1               NaN                   NaN             NaN  \n",
              "2               NaN                   NaN             NaN  \n",
              "3               NaN                   NaN             NaN  \n",
              "\n",
              "[4 rows x 151 columns]"
            ]
          },
          "execution_count": 4,
          "metadata": {},
          "output_type": "execute_result"
        }
      ],
      "source": [
        "data.head(4)"
      ]
    },
    {
      "cell_type": "code",
      "execution_count": null,
      "id": "d3a91ce6-37ed-4304-a422-c5bf4ceaa522",
      "metadata": {
        "id": "d3a91ce6-37ed-4304-a422-c5bf4ceaa522",
        "outputId": "64e10ea5-0736-40f5-e5cb-1053a8054f57"
      },
      "outputs": [
        {
          "name": "stdout",
          "output_type": "stream",
          "text": [
            "<class 'pandas.core.frame.DataFrame'>\n",
            "RangeIndex: 2260701 entries, 0 to 2260700\n",
            "Columns: 151 entries, id to settlement_term\n",
            "dtypes: float64(113), object(38)\n",
            "memory usage: 2.5+ GB\n"
          ]
        }
      ],
      "source": [
        "data.info()"
      ]
    },
    {
      "cell_type": "code",
      "execution_count": null,
      "id": "99566639-b4f6-4c4d-a52b-1f7597b5df33",
      "metadata": {
        "id": "99566639-b4f6-4c4d-a52b-1f7597b5df33",
        "outputId": "a5d5e75a-9c0a-47fe-8974-8502eb29d27d"
      },
      "outputs": [
        {
          "data": {
            "text/plain": [
              "(2260701, 151)"
            ]
          },
          "execution_count": 6,
          "metadata": {},
          "output_type": "execute_result"
        }
      ],
      "source": [
        "data.shape"
      ]
    },
    {
      "cell_type": "code",
      "execution_count": null,
      "id": "03b4e570-3957-46c8-9c46-6424ba5fc998",
      "metadata": {
        "id": "03b4e570-3957-46c8-9c46-6424ba5fc998",
        "outputId": "f98f071e-34f8-43ee-8148-0f01e3e80d94"
      },
      "outputs": [
        {
          "data": {
            "text/html": [
              "<div>\n",
              "<style scoped>\n",
              "    .dataframe tbody tr th:only-of-type {\n",
              "        vertical-align: middle;\n",
              "    }\n",
              "\n",
              "    .dataframe tbody tr th {\n",
              "        vertical-align: top;\n",
              "    }\n",
              "\n",
              "    .dataframe thead th {\n",
              "        text-align: right;\n",
              "    }\n",
              "</style>\n",
              "<table border=\"1\" class=\"dataframe\">\n",
              "  <thead>\n",
              "    <tr style=\"text-align: right;\">\n",
              "      <th></th>\n",
              "      <th>member_id</th>\n",
              "      <th>loan_amnt</th>\n",
              "      <th>funded_amnt</th>\n",
              "      <th>funded_amnt_inv</th>\n",
              "      <th>int_rate</th>\n",
              "      <th>installment</th>\n",
              "      <th>annual_inc</th>\n",
              "      <th>dti</th>\n",
              "      <th>delinq_2yrs</th>\n",
              "      <th>fico_range_low</th>\n",
              "      <th>...</th>\n",
              "      <th>deferral_term</th>\n",
              "      <th>hardship_amount</th>\n",
              "      <th>hardship_length</th>\n",
              "      <th>hardship_dpd</th>\n",
              "      <th>orig_projected_additional_accrued_interest</th>\n",
              "      <th>hardship_payoff_balance_amount</th>\n",
              "      <th>hardship_last_payment_amount</th>\n",
              "      <th>settlement_amount</th>\n",
              "      <th>settlement_percentage</th>\n",
              "      <th>settlement_term</th>\n",
              "    </tr>\n",
              "  </thead>\n",
              "  <tbody>\n",
              "    <tr>\n",
              "      <th>count</th>\n",
              "      <td>0.0</td>\n",
              "      <td>2.260668e+06</td>\n",
              "      <td>2.260668e+06</td>\n",
              "      <td>2.260668e+06</td>\n",
              "      <td>2.260668e+06</td>\n",
              "      <td>2.260668e+06</td>\n",
              "      <td>2.260664e+06</td>\n",
              "      <td>2.258957e+06</td>\n",
              "      <td>2.260639e+06</td>\n",
              "      <td>2.260668e+06</td>\n",
              "      <td>...</td>\n",
              "      <td>10917.0</td>\n",
              "      <td>10917.000000</td>\n",
              "      <td>10917.0</td>\n",
              "      <td>10917.000000</td>\n",
              "      <td>8651.000000</td>\n",
              "      <td>10917.000000</td>\n",
              "      <td>10917.000000</td>\n",
              "      <td>34246.000000</td>\n",
              "      <td>34246.000000</td>\n",
              "      <td>34246.000000</td>\n",
              "    </tr>\n",
              "    <tr>\n",
              "      <th>mean</th>\n",
              "      <td>NaN</td>\n",
              "      <td>1.504693e+04</td>\n",
              "      <td>1.504166e+04</td>\n",
              "      <td>1.502344e+04</td>\n",
              "      <td>1.309283e+01</td>\n",
              "      <td>4.458068e+02</td>\n",
              "      <td>7.799243e+04</td>\n",
              "      <td>1.882420e+01</td>\n",
              "      <td>3.068792e-01</td>\n",
              "      <td>6.985882e+02</td>\n",
              "      <td>...</td>\n",
              "      <td>3.0</td>\n",
              "      <td>155.045981</td>\n",
              "      <td>3.0</td>\n",
              "      <td>13.743886</td>\n",
              "      <td>454.798089</td>\n",
              "      <td>11636.883942</td>\n",
              "      <td>193.994321</td>\n",
              "      <td>5010.664267</td>\n",
              "      <td>47.780365</td>\n",
              "      <td>13.191322</td>\n",
              "    </tr>\n",
              "    <tr>\n",
              "      <th>std</th>\n",
              "      <td>NaN</td>\n",
              "      <td>9.190245e+03</td>\n",
              "      <td>9.188413e+03</td>\n",
              "      <td>9.192332e+03</td>\n",
              "      <td>4.832138e+00</td>\n",
              "      <td>2.671735e+02</td>\n",
              "      <td>1.126962e+05</td>\n",
              "      <td>1.418333e+01</td>\n",
              "      <td>8.672303e-01</td>\n",
              "      <td>3.301038e+01</td>\n",
              "      <td>...</td>\n",
              "      <td>0.0</td>\n",
              "      <td>129.040594</td>\n",
              "      <td>0.0</td>\n",
              "      <td>9.671178</td>\n",
              "      <td>375.385500</td>\n",
              "      <td>7625.988281</td>\n",
              "      <td>198.629496</td>\n",
              "      <td>3693.122590</td>\n",
              "      <td>7.311822</td>\n",
              "      <td>8.159980</td>\n",
              "    </tr>\n",
              "    <tr>\n",
              "      <th>min</th>\n",
              "      <td>NaN</td>\n",
              "      <td>5.000000e+02</td>\n",
              "      <td>5.000000e+02</td>\n",
              "      <td>0.000000e+00</td>\n",
              "      <td>5.310000e+00</td>\n",
              "      <td>4.930000e+00</td>\n",
              "      <td>0.000000e+00</td>\n",
              "      <td>-1.000000e+00</td>\n",
              "      <td>0.000000e+00</td>\n",
              "      <td>6.100000e+02</td>\n",
              "      <td>...</td>\n",
              "      <td>3.0</td>\n",
              "      <td>0.640000</td>\n",
              "      <td>3.0</td>\n",
              "      <td>0.000000</td>\n",
              "      <td>1.920000</td>\n",
              "      <td>55.730000</td>\n",
              "      <td>0.010000</td>\n",
              "      <td>44.210000</td>\n",
              "      <td>0.200000</td>\n",
              "      <td>0.000000</td>\n",
              "    </tr>\n",
              "    <tr>\n",
              "      <th>25%</th>\n",
              "      <td>NaN</td>\n",
              "      <td>8.000000e+03</td>\n",
              "      <td>8.000000e+03</td>\n",
              "      <td>8.000000e+03</td>\n",
              "      <td>9.490000e+00</td>\n",
              "      <td>2.516500e+02</td>\n",
              "      <td>4.600000e+04</td>\n",
              "      <td>1.189000e+01</td>\n",
              "      <td>0.000000e+00</td>\n",
              "      <td>6.750000e+02</td>\n",
              "      <td>...</td>\n",
              "      <td>3.0</td>\n",
              "      <td>59.440000</td>\n",
              "      <td>3.0</td>\n",
              "      <td>5.000000</td>\n",
              "      <td>175.230000</td>\n",
              "      <td>5627.000000</td>\n",
              "      <td>44.440000</td>\n",
              "      <td>2208.000000</td>\n",
              "      <td>45.000000</td>\n",
              "      <td>6.000000</td>\n",
              "    </tr>\n",
              "    <tr>\n",
              "      <th>50%</th>\n",
              "      <td>NaN</td>\n",
              "      <td>1.290000e+04</td>\n",
              "      <td>1.287500e+04</td>\n",
              "      <td>1.280000e+04</td>\n",
              "      <td>1.262000e+01</td>\n",
              "      <td>3.779900e+02</td>\n",
              "      <td>6.500000e+04</td>\n",
              "      <td>1.784000e+01</td>\n",
              "      <td>0.000000e+00</td>\n",
              "      <td>6.900000e+02</td>\n",
              "      <td>...</td>\n",
              "      <td>3.0</td>\n",
              "      <td>119.140000</td>\n",
              "      <td>3.0</td>\n",
              "      <td>15.000000</td>\n",
              "      <td>352.770000</td>\n",
              "      <td>10028.390000</td>\n",
              "      <td>133.160000</td>\n",
              "      <td>4146.110000</td>\n",
              "      <td>45.000000</td>\n",
              "      <td>14.000000</td>\n",
              "    </tr>\n",
              "    <tr>\n",
              "      <th>75%</th>\n",
              "      <td>NaN</td>\n",
              "      <td>2.000000e+04</td>\n",
              "      <td>2.000000e+04</td>\n",
              "      <td>2.000000e+04</td>\n",
              "      <td>1.599000e+01</td>\n",
              "      <td>5.933200e+02</td>\n",
              "      <td>9.300000e+04</td>\n",
              "      <td>2.449000e+01</td>\n",
              "      <td>0.000000e+00</td>\n",
              "      <td>7.150000e+02</td>\n",
              "      <td>...</td>\n",
              "      <td>3.0</td>\n",
              "      <td>213.260000</td>\n",
              "      <td>3.0</td>\n",
              "      <td>22.000000</td>\n",
              "      <td>620.175000</td>\n",
              "      <td>16151.890000</td>\n",
              "      <td>284.190000</td>\n",
              "      <td>6850.172500</td>\n",
              "      <td>50.000000</td>\n",
              "      <td>18.000000</td>\n",
              "    </tr>\n",
              "    <tr>\n",
              "      <th>max</th>\n",
              "      <td>NaN</td>\n",
              "      <td>4.000000e+04</td>\n",
              "      <td>4.000000e+04</td>\n",
              "      <td>4.000000e+04</td>\n",
              "      <td>3.099000e+01</td>\n",
              "      <td>1.719830e+03</td>\n",
              "      <td>1.100000e+08</td>\n",
              "      <td>9.990000e+02</td>\n",
              "      <td>5.800000e+01</td>\n",
              "      <td>8.450000e+02</td>\n",
              "      <td>...</td>\n",
              "      <td>3.0</td>\n",
              "      <td>943.940000</td>\n",
              "      <td>3.0</td>\n",
              "      <td>37.000000</td>\n",
              "      <td>2680.890000</td>\n",
              "      <td>40306.410000</td>\n",
              "      <td>1407.860000</td>\n",
              "      <td>33601.000000</td>\n",
              "      <td>521.350000</td>\n",
              "      <td>181.000000</td>\n",
              "    </tr>\n",
              "  </tbody>\n",
              "</table>\n",
              "<p>8 rows × 113 columns</p>\n",
              "</div>"
            ],
            "text/plain": [
              "       member_id     loan_amnt   funded_amnt  funded_amnt_inv      int_rate  \\\n",
              "count        0.0  2.260668e+06  2.260668e+06     2.260668e+06  2.260668e+06   \n",
              "mean         NaN  1.504693e+04  1.504166e+04     1.502344e+04  1.309283e+01   \n",
              "std          NaN  9.190245e+03  9.188413e+03     9.192332e+03  4.832138e+00   \n",
              "min          NaN  5.000000e+02  5.000000e+02     0.000000e+00  5.310000e+00   \n",
              "25%          NaN  8.000000e+03  8.000000e+03     8.000000e+03  9.490000e+00   \n",
              "50%          NaN  1.290000e+04  1.287500e+04     1.280000e+04  1.262000e+01   \n",
              "75%          NaN  2.000000e+04  2.000000e+04     2.000000e+04  1.599000e+01   \n",
              "max          NaN  4.000000e+04  4.000000e+04     4.000000e+04  3.099000e+01   \n",
              "\n",
              "        installment    annual_inc           dti   delinq_2yrs  fico_range_low  \\\n",
              "count  2.260668e+06  2.260664e+06  2.258957e+06  2.260639e+06    2.260668e+06   \n",
              "mean   4.458068e+02  7.799243e+04  1.882420e+01  3.068792e-01    6.985882e+02   \n",
              "std    2.671735e+02  1.126962e+05  1.418333e+01  8.672303e-01    3.301038e+01   \n",
              "min    4.930000e+00  0.000000e+00 -1.000000e+00  0.000000e+00    6.100000e+02   \n",
              "25%    2.516500e+02  4.600000e+04  1.189000e+01  0.000000e+00    6.750000e+02   \n",
              "50%    3.779900e+02  6.500000e+04  1.784000e+01  0.000000e+00    6.900000e+02   \n",
              "75%    5.933200e+02  9.300000e+04  2.449000e+01  0.000000e+00    7.150000e+02   \n",
              "max    1.719830e+03  1.100000e+08  9.990000e+02  5.800000e+01    8.450000e+02   \n",
              "\n",
              "       ...  deferral_term  hardship_amount  hardship_length  hardship_dpd  \\\n",
              "count  ...        10917.0     10917.000000          10917.0  10917.000000   \n",
              "mean   ...            3.0       155.045981              3.0     13.743886   \n",
              "std    ...            0.0       129.040594              0.0      9.671178   \n",
              "min    ...            3.0         0.640000              3.0      0.000000   \n",
              "25%    ...            3.0        59.440000              3.0      5.000000   \n",
              "50%    ...            3.0       119.140000              3.0     15.000000   \n",
              "75%    ...            3.0       213.260000              3.0     22.000000   \n",
              "max    ...            3.0       943.940000              3.0     37.000000   \n",
              "\n",
              "       orig_projected_additional_accrued_interest  \\\n",
              "count                                 8651.000000   \n",
              "mean                                   454.798089   \n",
              "std                                    375.385500   \n",
              "min                                      1.920000   \n",
              "25%                                    175.230000   \n",
              "50%                                    352.770000   \n",
              "75%                                    620.175000   \n",
              "max                                   2680.890000   \n",
              "\n",
              "       hardship_payoff_balance_amount  hardship_last_payment_amount  \\\n",
              "count                    10917.000000                  10917.000000   \n",
              "mean                     11636.883942                    193.994321   \n",
              "std                       7625.988281                    198.629496   \n",
              "min                         55.730000                      0.010000   \n",
              "25%                       5627.000000                     44.440000   \n",
              "50%                      10028.390000                    133.160000   \n",
              "75%                      16151.890000                    284.190000   \n",
              "max                      40306.410000                   1407.860000   \n",
              "\n",
              "       settlement_amount  settlement_percentage  settlement_term  \n",
              "count       34246.000000           34246.000000     34246.000000  \n",
              "mean         5010.664267              47.780365        13.191322  \n",
              "std          3693.122590               7.311822         8.159980  \n",
              "min            44.210000               0.200000         0.000000  \n",
              "25%          2208.000000              45.000000         6.000000  \n",
              "50%          4146.110000              45.000000        14.000000  \n",
              "75%          6850.172500              50.000000        18.000000  \n",
              "max         33601.000000             521.350000       181.000000  \n",
              "\n",
              "[8 rows x 113 columns]"
            ]
          },
          "execution_count": 7,
          "metadata": {},
          "output_type": "execute_result"
        }
      ],
      "source": [
        "data.describe()"
      ]
    },
    {
      "cell_type": "code",
      "execution_count": null,
      "id": "bf383272-9eb4-4c15-9a56-b0c5970154ac",
      "metadata": {
        "id": "bf383272-9eb4-4c15-9a56-b0c5970154ac"
      },
      "outputs": [],
      "source": [
        "target = \"loan_status\""
      ]
    },
    {
      "cell_type": "code",
      "execution_count": null,
      "id": "0c90e13c-fe24-41d4-a61b-dde42a06e5ea",
      "metadata": {
        "id": "0c90e13c-fe24-41d4-a61b-dde42a06e5ea"
      },
      "outputs": [],
      "source": [
        "data = data[(data[target] == \"Fully Paid\") | (data[target] == \"Charged Off\")]"
      ]
    },
    {
      "cell_type": "code",
      "execution_count": null,
      "id": "054fed26-775e-4069-a14a-c6baa8200409",
      "metadata": {
        "id": "054fed26-775e-4069-a14a-c6baa8200409"
      },
      "outputs": [],
      "source": [
        "not_defined = (data.isna().sum().sort_values(ascending = False) / data.shape[0]) * 100"
      ]
    },
    {
      "cell_type": "code",
      "execution_count": null,
      "id": "78793c07-6783-4422-8626-dcfbafb7a223",
      "metadata": {
        "id": "78793c07-6783-4422-8626-dcfbafb7a223",
        "outputId": "5b0e0e31-f0d3-46ac-873f-bc6283db2266"
      },
      "outputs": [
        {
          "data": {
            "text/plain": [
              "(57,)"
            ]
          },
          "execution_count": 11,
          "metadata": {},
          "output_type": "execute_result"
        }
      ],
      "source": [
        "eliminated = not_defined[not_defined > 60]\n",
        "eliminated.shape"
      ]
    },
    {
      "cell_type": "code",
      "execution_count": null,
      "id": "dc11bbfb-aaba-4c94-b913-9f62138879a2",
      "metadata": {
        "id": "dc11bbfb-aaba-4c94-b913-9f62138879a2",
        "outputId": "3cd7e317-0c89-4dbe-85c9-a49ff1442880"
      },
      "outputs": [
        {
          "data": {
            "text/plain": [
              "(1345310, 94)"
            ]
          },
          "execution_count": 12,
          "metadata": {},
          "output_type": "execute_result"
        }
      ],
      "source": [
        "index = eliminated.index\n",
        "data = data.drop(index, axis = 1)\n",
        "data.shape"
      ]
    },
    {
      "cell_type": "code",
      "execution_count": null,
      "id": "42f7fd22-7041-440d-8d30-cfee0d875353",
      "metadata": {
        "id": "42f7fd22-7041-440d-8d30-cfee0d875353",
        "outputId": "fef66428-9369-46f2-fc20-a6b97024f465"
      },
      "outputs": [
        {
          "data": {
            "text/plain": [
              "mths_since_last_delinq    0.504525\n",
              "mths_since_recent_inq     0.129391\n",
              "num_tl_120dpd_2m          0.087267\n",
              "mo_sin_old_il_acct        0.078476\n",
              "emp_title                 0.063766\n",
              "                            ...   \n",
              "initial_list_status       0.000000\n",
              "total_acc                 0.000000\n",
              "revol_bal                 0.000000\n",
              "pub_rec                   0.000000\n",
              "debt_settlement_flag      0.000000\n",
              "Length: 94, dtype: float64"
            ]
          },
          "execution_count": 13,
          "metadata": {},
          "output_type": "execute_result"
        }
      ],
      "source": [
        "(data.isna().sum() / data.shape[0]).sort_values(ascending = False)"
      ]
    },
    {
      "cell_type": "code",
      "execution_count": null,
      "id": "5feafee0-4bde-427f-8f85-8cf5b9cf9914",
      "metadata": {
        "id": "5feafee0-4bde-427f-8f85-8cf5b9cf9914"
      },
      "outputs": [],
      "source": [
        "#\n",
        "numeric_variable = []\n",
        "categorical_variable = []\n",
        "for elt in data.select_dtypes([\"float\", \"int\"]):\n",
        "    numeric_variable.append(elt)\n",
        "\n",
        "for elt in data.select_dtypes(\"object\"):\n",
        "    categorical_variable.append(elt)"
      ]
    },
    {
      "cell_type": "code",
      "execution_count": null,
      "id": "da3270a7-7aea-42b6-8d0b-0897183829d9",
      "metadata": {
        "id": "da3270a7-7aea-42b6-8d0b-0897183829d9",
        "outputId": "ba9f8619-e9fa-4cdc-a297-0b6100cf2819"
      },
      "outputs": [
        {
          "data": {
            "text/plain": [
              "True"
            ]
          },
          "execution_count": 15,
          "metadata": {},
          "output_type": "execute_result"
        }
      ],
      "source": [
        "len(categorical_variable) + len(numeric_variable) == data.shape[1]"
      ]
    },
    {
      "cell_type": "code",
      "execution_count": null,
      "id": "d20b1c53-821c-4f63-b74f-2e3edcef98e0",
      "metadata": {
        "id": "d20b1c53-821c-4f63-b74f-2e3edcef98e0"
      },
      "outputs": [],
      "source": [
        "#suppression de \"loan status\" dans les variables categorielles\n",
        "i = 0\n",
        "for elt in categorical_variable:\n",
        "    if (elt == \"loan_status\") | (elt == \"id\"):\n",
        "        del categorical_variable[i]\n",
        "\n",
        "    i +=1"
      ]
    },
    {
      "cell_type": "code",
      "execution_count": null,
      "id": "6898d30c-d9d6-4a5e-a1a8-7e9ecd5a2b22",
      "metadata": {
        "id": "6898d30c-d9d6-4a5e-a1a8-7e9ecd5a2b22"
      },
      "outputs": [],
      "source": [
        "dictionnaire = {\n",
        "    'Fully Paid' : \"1\",\n",
        "    'Charged Off':\"0\"\n",
        "}\n",
        "data[\"loan_status\"] = data[\"loan_status\"].replace(dictionnaire).astype(\"int\")"
      ]
    },
    {
      "cell_type": "code",
      "execution_count": null,
      "id": "b06b3530-0432-4c27-b8e5-82deec0a8482",
      "metadata": {
        "id": "b06b3530-0432-4c27-b8e5-82deec0a8482"
      },
      "outputs": [],
      "source": [
        "##pipeline de preprocessing pour les variables numeriques\n",
        "\n",
        "numeric_pipe = Pipeline(steps = [\n",
        "    (\"Imputation Numerique\", SimpleImputer(strategy = \"mean\")),\n",
        "    (\"Normalisation\", StandardScaler())\n",
        "])\n"
      ]
    },
    {
      "cell_type": "code",
      "execution_count": null,
      "id": "dbc48731-b695-47cc-82ff-440d70df5ded",
      "metadata": {
        "id": "dbc48731-b695-47cc-82ff-440d70df5ded"
      },
      "outputs": [],
      "source": [
        "#pipeline de preprocessing pour les variables categorielles\n",
        "categorical_pipe = Pipeline(steps = [\n",
        "    (\"Imputation categorielle\", SimpleImputer(strategy = \"most_frequent\")),\n",
        "    (\"Encodage des variables\", OneHotEncoder(handle_unknown=\"ignore\")),\n",
        "])"
      ]
    },
    {
      "cell_type": "code",
      "execution_count": null,
      "id": "7dfa72a9-e90f-4d3a-8598-9484a3e368c0",
      "metadata": {
        "id": "7dfa72a9-e90f-4d3a-8598-9484a3e368c0"
      },
      "outputs": [],
      "source": [
        "preprocessor = ColumnTransformer(transformers = [\n",
        "    (\"numerique\", numeric_pipe, numeric_variable),\n",
        "    (\"categorielle\", categorical_pipe, categorical_variable)\n",
        "])"
      ]
    },
    {
      "cell_type": "code",
      "execution_count": null,
      "id": "6fa43e42-06a7-4ba5-af7a-2b46e8c09a69",
      "metadata": {
        "id": "6fa43e42-06a7-4ba5-af7a-2b46e8c09a69"
      },
      "outputs": [],
      "source": [
        "#pipeline de preprocessing\n",
        "\n",
        "preprocessed_pipeline = Pipeline(steps = [\n",
        "    (\"preprocessing\", preprocessor)\n",
        "])"
      ]
    },
    {
      "cell_type": "code",
      "execution_count": null,
      "id": "5abca725-f8bc-4adf-b822-b147af761189",
      "metadata": {
        "id": "5abca725-f8bc-4adf-b822-b147af761189"
      },
      "outputs": [],
      "source": [
        "# division de la base de donnees en entrainement, validation et test\n",
        "X = data.drop([\"loan_status\", \"id\"], axis = 1)\n",
        "Y = data[\"loan_status\"]\n",
        "\n",
        "Xtrain, Xval, Ytrain, Yval = train_test_split(X, Y, test_size = 0.4, random_state = 42)\n",
        "Xval, Xtest, Yval, Ytest = train_test_split(Xval, Yval, test_size = 0.3, random_state = 42)"
      ]
    },
    {
      "cell_type": "code",
      "execution_count": null,
      "id": "3c4c2dde-646c-4a00-bf63-7df277c5e36f",
      "metadata": {
        "id": "3c4c2dde-646c-4a00-bf63-7df277c5e36f",
        "outputId": "1494bd5f-51a8-4660-e81e-462486741ef9"
      },
      "outputs": [
        {
          "data": {
            "text/plain": [
              "(807186, 92)"
            ]
          },
          "execution_count": 23,
          "metadata": {},
          "output_type": "execute_result"
        }
      ],
      "source": [
        "Xtrain.shape"
      ]
    },
    {
      "cell_type": "code",
      "execution_count": null,
      "id": "3cd6fc12-5067-4a2f-841a-52bb7f08b05b",
      "metadata": {
        "id": "3cd6fc12-5067-4a2f-841a-52bb7f08b05b",
        "outputId": "0ab5f27a-5dde-4c45-fd7b-4660513f5b2e"
      },
      "outputs": [
        {
          "data": {
            "text/plain": [
              "(376686, 92)"
            ]
          },
          "execution_count": 24,
          "metadata": {},
          "output_type": "execute_result"
        }
      ],
      "source": [
        "Xval.shape"
      ]
    },
    {
      "cell_type": "code",
      "execution_count": null,
      "id": "cd30ec6c-5260-4c1a-b94f-86628587d335",
      "metadata": {
        "id": "cd30ec6c-5260-4c1a-b94f-86628587d335",
        "outputId": "7e165cea-452d-42b6-f88d-17a4244e004b"
      },
      "outputs": [
        {
          "data": {
            "text/plain": [
              "(161438, 92)"
            ]
          },
          "execution_count": 25,
          "metadata": {},
          "output_type": "execute_result"
        }
      ],
      "source": [
        "Xtest.shape"
      ]
    },
    {
      "cell_type": "code",
      "execution_count": null,
      "id": "2b798889-fef5-48e2-9a4d-8f5192d9ec24",
      "metadata": {
        "id": "2b798889-fef5-48e2-9a4d-8f5192d9ec24",
        "outputId": "374ed217-24f5-435a-920a-1b733bbb1562"
      },
      "outputs": [
        {
          "data": {
            "text/plain": [
              "array([1, 0])"
            ]
          },
          "execution_count": 26,
          "metadata": {},
          "output_type": "execute_result"
        }
      ],
      "source": [
        "data[\"loan_status\"].unique()"
      ]
    },
    {
      "cell_type": "code",
      "execution_count": null,
      "id": "a9929c23-6fac-4368-8b18-ae89feba69b1",
      "metadata": {
        "id": "a9929c23-6fac-4368-8b18-ae89feba69b1"
      },
      "outputs": [],
      "source": [
        "Xtrain_preprocessed = preprocessor.fit_transform(Xtrain).astype('float')\n",
        "Xtest_preprocessed = preprocessor.transform(Xtest).astype('float')"
      ]
    },
    {
      "cell_type": "code",
      "execution_count": null,
      "id": "199a849b-71d6-4072-88c5-646ee3f22c69",
      "metadata": {
        "id": "199a849b-71d6-4072-88c5-646ee3f22c69",
        "outputId": "2c7e5508-5f13-4096-a5d2-cf2d37f8e527"
      },
      "outputs": [
        {
          "data": {
            "text/plain": [
              "(807186, 1100171)"
            ]
          },
          "execution_count": 28,
          "metadata": {},
          "output_type": "execute_result"
        }
      ],
      "source": [
        "Xtrain_preprocessed.shape"
      ]
    },
    {
      "cell_type": "markdown",
      "id": "1bb654ae-be7d-4afd-9a82-1fa0a1d74cfd",
      "metadata": {
        "id": "1bb654ae-be7d-4afd-9a82-1fa0a1d74cfd"
      },
      "source": [
        "# Creation du reseau de neuronnes"
      ]
    },
    {
      "cell_type": "code",
      "execution_count": null,
      "id": "104735f1-f5ed-42c6-a7da-0e9f353f4baa",
      "metadata": {
        "id": "104735f1-f5ed-42c6-a7da-0e9f353f4baa"
      },
      "outputs": [],
      "source": [
        "# Creation du modele\n",
        "\n",
        "model = Sequential()\n",
        "model.add(Input((Xtrain_preprocessed.shape[1],)))\n",
        "model.add(Dense(units = 524 , activation = \"relu\"))\n",
        "model.add(Dense(units = 256))\n",
        "model.add(BatchNormalization())\n",
        "model.add(Dense(units = 128, activation = \"relu\"))\n",
        "model.add(Dense(units = 1, activation = \"sigmoid\"))\n"
      ]
    },
    {
      "cell_type": "code",
      "execution_count": null,
      "id": "a48eac97-6a43-4935-8b96-5091bd981ac9",
      "metadata": {
        "id": "a48eac97-6a43-4935-8b96-5091bd981ac9",
        "outputId": "59ced8bb-183d-490a-c83f-f86b2429931f"
      },
      "outputs": [
        {
          "data": {
            "text/html": [
              "<pre style=\"white-space:pre;overflow-x:auto;line-height:normal;font-family:Menlo,'DejaVu Sans Mono',consolas,'Courier New',monospace\"><span style=\"font-weight: bold\">Model: \"sequential\"</span>\n",
              "</pre>\n"
            ],
            "text/plain": [
              "\u001b[1mModel: \"sequential\"\u001b[0m\n"
            ]
          },
          "metadata": {},
          "output_type": "display_data"
        },
        {
          "data": {
            "text/html": [
              "<pre style=\"white-space:pre;overflow-x:auto;line-height:normal;font-family:Menlo,'DejaVu Sans Mono',consolas,'Courier New',monospace\">┏━━━━━━━━━━━━━━━━━━━━━━━━━━━━━━━━━━━━━━┳━━━━━━━━━━━━━━━━━━━━━━━━━━━━━┳━━━━━━━━━━━━━━━━━┓\n",
              "┃<span style=\"font-weight: bold\"> Layer (type)                         </span>┃<span style=\"font-weight: bold\"> Output Shape                </span>┃<span style=\"font-weight: bold\">         Param # </span>┃\n",
              "┡━━━━━━━━━━━━━━━━━━━━━━━━━━━━━━━━━━━━━━╇━━━━━━━━━━━━━━━━━━━━━━━━━━━━━╇━━━━━━━━━━━━━━━━━┩\n",
              "│ dense (<span style=\"color: #0087ff; text-decoration-color: #0087ff\">Dense</span>)                        │ (<span style=\"color: #00d7ff; text-decoration-color: #00d7ff\">None</span>, <span style=\"color: #00af00; text-decoration-color: #00af00\">524</span>)                 │     <span style=\"color: #00af00; text-decoration-color: #00af00\">576,490,128</span> │\n",
              "├──────────────────────────────────────┼─────────────────────────────┼─────────────────┤\n",
              "│ dense_1 (<span style=\"color: #0087ff; text-decoration-color: #0087ff\">Dense</span>)                      │ (<span style=\"color: #00d7ff; text-decoration-color: #00d7ff\">None</span>, <span style=\"color: #00af00; text-decoration-color: #00af00\">256</span>)                 │         <span style=\"color: #00af00; text-decoration-color: #00af00\">134,400</span> │\n",
              "├──────────────────────────────────────┼─────────────────────────────┼─────────────────┤\n",
              "│ batch_normalization                  │ (<span style=\"color: #00d7ff; text-decoration-color: #00d7ff\">None</span>, <span style=\"color: #00af00; text-decoration-color: #00af00\">256</span>)                 │           <span style=\"color: #00af00; text-decoration-color: #00af00\">1,024</span> │\n",
              "│ (<span style=\"color: #0087ff; text-decoration-color: #0087ff\">BatchNormalization</span>)                 │                             │                 │\n",
              "├──────────────────────────────────────┼─────────────────────────────┼─────────────────┤\n",
              "│ dense_2 (<span style=\"color: #0087ff; text-decoration-color: #0087ff\">Dense</span>)                      │ (<span style=\"color: #00d7ff; text-decoration-color: #00d7ff\">None</span>, <span style=\"color: #00af00; text-decoration-color: #00af00\">128</span>)                 │          <span style=\"color: #00af00; text-decoration-color: #00af00\">32,896</span> │\n",
              "├──────────────────────────────────────┼─────────────────────────────┼─────────────────┤\n",
              "│ dense_3 (<span style=\"color: #0087ff; text-decoration-color: #0087ff\">Dense</span>)                      │ (<span style=\"color: #00d7ff; text-decoration-color: #00d7ff\">None</span>, <span style=\"color: #00af00; text-decoration-color: #00af00\">1</span>)                   │             <span style=\"color: #00af00; text-decoration-color: #00af00\">129</span> │\n",
              "└──────────────────────────────────────┴─────────────────────────────┴─────────────────┘\n",
              "</pre>\n"
            ],
            "text/plain": [
              "┏━━━━━━━━━━━━━━━━━━━━━━━━━━━━━━━━━━━━━━┳━━━━━━━━━━━━━━━━━━━━━━━━━━━━━┳━━━━━━━━━━━━━━━━━┓\n",
              "┃\u001b[1m \u001b[0m\u001b[1mLayer (type)                        \u001b[0m\u001b[1m \u001b[0m┃\u001b[1m \u001b[0m\u001b[1mOutput Shape               \u001b[0m\u001b[1m \u001b[0m┃\u001b[1m \u001b[0m\u001b[1m        Param #\u001b[0m\u001b[1m \u001b[0m┃\n",
              "┡━━━━━━━━━━━━━━━━━━━━━━━━━━━━━━━━━━━━━━╇━━━━━━━━━━━━━━━━━━━━━━━━━━━━━╇━━━━━━━━━━━━━━━━━┩\n",
              "│ dense (\u001b[38;5;33mDense\u001b[0m)                        │ (\u001b[38;5;45mNone\u001b[0m, \u001b[38;5;34m524\u001b[0m)                 │     \u001b[38;5;34m576,490,128\u001b[0m │\n",
              "├──────────────────────────────────────┼─────────────────────────────┼─────────────────┤\n",
              "│ dense_1 (\u001b[38;5;33mDense\u001b[0m)                      │ (\u001b[38;5;45mNone\u001b[0m, \u001b[38;5;34m256\u001b[0m)                 │         \u001b[38;5;34m134,400\u001b[0m │\n",
              "├──────────────────────────────────────┼─────────────────────────────┼─────────────────┤\n",
              "│ batch_normalization                  │ (\u001b[38;5;45mNone\u001b[0m, \u001b[38;5;34m256\u001b[0m)                 │           \u001b[38;5;34m1,024\u001b[0m │\n",
              "│ (\u001b[38;5;33mBatchNormalization\u001b[0m)                 │                             │                 │\n",
              "├──────────────────────────────────────┼─────────────────────────────┼─────────────────┤\n",
              "│ dense_2 (\u001b[38;5;33mDense\u001b[0m)                      │ (\u001b[38;5;45mNone\u001b[0m, \u001b[38;5;34m128\u001b[0m)                 │          \u001b[38;5;34m32,896\u001b[0m │\n",
              "├──────────────────────────────────────┼─────────────────────────────┼─────────────────┤\n",
              "│ dense_3 (\u001b[38;5;33mDense\u001b[0m)                      │ (\u001b[38;5;45mNone\u001b[0m, \u001b[38;5;34m1\u001b[0m)                   │             \u001b[38;5;34m129\u001b[0m │\n",
              "└──────────────────────────────────────┴─────────────────────────────┴─────────────────┘\n"
            ]
          },
          "metadata": {},
          "output_type": "display_data"
        },
        {
          "data": {
            "text/html": [
              "<pre style=\"white-space:pre;overflow-x:auto;line-height:normal;font-family:Menlo,'DejaVu Sans Mono',consolas,'Courier New',monospace\"><span style=\"font-weight: bold\"> Total params: </span><span style=\"color: #00af00; text-decoration-color: #00af00\">576,658,577</span> (2.15 GB)\n",
              "</pre>\n"
            ],
            "text/plain": [
              "\u001b[1m Total params: \u001b[0m\u001b[38;5;34m576,658,577\u001b[0m (2.15 GB)\n"
            ]
          },
          "metadata": {},
          "output_type": "display_data"
        },
        {
          "data": {
            "text/html": [
              "<pre style=\"white-space:pre;overflow-x:auto;line-height:normal;font-family:Menlo,'DejaVu Sans Mono',consolas,'Courier New',monospace\"><span style=\"font-weight: bold\"> Trainable params: </span><span style=\"color: #00af00; text-decoration-color: #00af00\">576,658,065</span> (2.15 GB)\n",
              "</pre>\n"
            ],
            "text/plain": [
              "\u001b[1m Trainable params: \u001b[0m\u001b[38;5;34m576,658,065\u001b[0m (2.15 GB)\n"
            ]
          },
          "metadata": {},
          "output_type": "display_data"
        },
        {
          "data": {
            "text/html": [
              "<pre style=\"white-space:pre;overflow-x:auto;line-height:normal;font-family:Menlo,'DejaVu Sans Mono',consolas,'Courier New',monospace\"><span style=\"font-weight: bold\"> Non-trainable params: </span><span style=\"color: #00af00; text-decoration-color: #00af00\">512</span> (2.00 KB)\n",
              "</pre>\n"
            ],
            "text/plain": [
              "\u001b[1m Non-trainable params: \u001b[0m\u001b[38;5;34m512\u001b[0m (2.00 KB)\n"
            ]
          },
          "metadata": {},
          "output_type": "display_data"
        }
      ],
      "source": [
        "model.summary()"
      ]
    },
    {
      "cell_type": "code",
      "execution_count": null,
      "id": "aaa7f747-5c08-4536-bad6-0e94276fae63",
      "metadata": {
        "id": "aaa7f747-5c08-4536-bad6-0e94276fae63"
      },
      "outputs": [],
      "source": [
        "model.compile(\n",
        "    loss = \"binary_crossentropy\",\n",
        "    optimizer = \"adam\",\n",
        "    metrics = [\"accuracy\"]\n",
        ")"
      ]
    },
    {
      "cell_type": "code",
      "execution_count": null,
      "id": "4f576144-da6d-4b1b-ab35-f0686dc5b774",
      "metadata": {
        "id": "4f576144-da6d-4b1b-ab35-f0686dc5b774",
        "outputId": "2f53b872-2d8a-428d-cada-8d30510446e2"
      },
      "outputs": [
        {
          "name": "stdout",
          "output_type": "stream",
          "text": [
            "Epoch 1/2\n",
            "\u001b[1m  124/25225\u001b[0m \u001b[37m━━━━━━━━━━━━━━━━━━━━\u001b[0m \u001b[1m47:23:56\u001b[0m 7s/step - accuracy: 0.9259 - loss: 0.2051"
          ]
        }
      ],
      "source": [
        "history = model.fit(\n",
        "    Xtrain_preprocessed, Ytrain,\n",
        "    validation_data = (Xtest_preprocessed, Ytest),\n",
        "    epochs = 2,\n",
        "    verbose = True\n",
        ")"
      ]
    },
    {
      "cell_type": "code",
      "execution_count": 1,
      "id": "48f19698-a9f6-4540-80d7-b6d04f45c8df",
      "metadata": {
        "id": "48f19698-a9f6-4540-80d7-b6d04f45c8df"
      },
      "outputs": [],
      "source": [
        "# La Ram ne supporte pas l'execution de l'entrainement"
      ]
    },
    {
      "cell_type": "code",
      "source": [],
      "metadata": {
        "id": "hinTEMX2B1kl"
      },
      "id": "hinTEMX2B1kl",
      "execution_count": null,
      "outputs": []
    }
  ],
  "metadata": {
    "kernelspec": {
      "name": "conda-base-py",
      "display_name": "Python 3"
    },
    "language_info": {
      "codemirror_mode": {
        "name": "ipython",
        "version": 3
      },
      "file_extension": ".py",
      "mimetype": "text/x-python",
      "name": "python",
      "nbconvert_exporter": "python",
      "pygments_lexer": "ipython3",
      "version": "3.12.7"
    },
    "colab": {
      "provenance": []
    }
  },
  "nbformat": 4,
  "nbformat_minor": 5
}
