{
 "cells": [
  {
   "cell_type": "code",
   "execution_count": 1,
   "id": "543fd8c6-f768-44f5-b101-d23048a51638",
   "metadata": {},
   "outputs": [],
   "source": [
    "import numpy as np \n",
    "import pandas as pd \n",
    "import seaborn as sns\n",
    "import matplotlib.pyplot as plt\n",
    "import os \n",
    "import zipfile"
   ]
  },
  {
   "cell_type": "code",
   "execution_count": 2,
   "id": "9ff6e98f-9db4-496f-ba1c-c05343d5a9ab",
   "metadata": {},
   "outputs": [],
   "source": [
    "## deziper le fichier\n",
    "\n",
    "extract_to = \"../datasets/\"\n",
    "zip_file_path = \"../datasets/accepted_2007_to_2018.zip\"\n",
    "with zipfile.ZipFile(zip_file_path, \"r\") as zp:\n",
    "    zp.extractall(extract_to)\n",
    "    "
   ]
  },
  {
   "cell_type": "code",
   "execution_count": 3,
   "id": "9b1d1028-1fec-417f-a792-d95df6eaca51",
   "metadata": {},
   "outputs": [
    {
     "data": {
      "text/plain": [
       "['accepted_2007_to_2018Q4.csv']"
      ]
     },
     "execution_count": 3,
     "metadata": {},
     "output_type": "execute_result"
    }
   ],
   "source": [
    "# Exploration de la structure du fichier\n",
    "file_path = extract_to + \"/accepted_2007_to_2018/\"\n",
    "os.listdir(file_path)"
   ]
  },
  {
   "cell_type": "code",
   "execution_count": 4,
   "id": "e2deb7a4-b248-46bf-b5f4-829d88e49238",
   "metadata": {},
   "outputs": [
    {
     "data": {
      "text/plain": [
       "(2260701, 151)"
      ]
     },
     "execution_count": 4,
     "metadata": {},
     "output_type": "execute_result"
    }
   ],
   "source": [
    "# Lecture et explorations du dataset\n",
    "raw_data = pd.read_csv(file_path + os.listdir(file_path)[0], low_memory = False)\n",
    "raw_data.shape"
   ]
  },
  {
   "cell_type": "code",
   "execution_count": 5,
   "id": "44f839d7-d8d8-4a5a-999a-106a61374e48",
   "metadata": {},
   "outputs": [
    {
     "data": {
      "text/html": [
       "<div>\n",
       "<style scoped>\n",
       "    .dataframe tbody tr th:only-of-type {\n",
       "        vertical-align: middle;\n",
       "    }\n",
       "\n",
       "    .dataframe tbody tr th {\n",
       "        vertical-align: top;\n",
       "    }\n",
       "\n",
       "    .dataframe thead th {\n",
       "        text-align: right;\n",
       "    }\n",
       "</style>\n",
       "<table border=\"1\" class=\"dataframe\">\n",
       "  <thead>\n",
       "    <tr style=\"text-align: right;\">\n",
       "      <th></th>\n",
       "      <th>id</th>\n",
       "      <th>member_id</th>\n",
       "      <th>loan_amnt</th>\n",
       "      <th>funded_amnt</th>\n",
       "      <th>funded_amnt_inv</th>\n",
       "      <th>term</th>\n",
       "      <th>int_rate</th>\n",
       "      <th>installment</th>\n",
       "      <th>grade</th>\n",
       "      <th>sub_grade</th>\n",
       "      <th>...</th>\n",
       "      <th>hardship_payoff_balance_amount</th>\n",
       "      <th>hardship_last_payment_amount</th>\n",
       "      <th>disbursement_method</th>\n",
       "      <th>debt_settlement_flag</th>\n",
       "      <th>debt_settlement_flag_date</th>\n",
       "      <th>settlement_status</th>\n",
       "      <th>settlement_date</th>\n",
       "      <th>settlement_amount</th>\n",
       "      <th>settlement_percentage</th>\n",
       "      <th>settlement_term</th>\n",
       "    </tr>\n",
       "  </thead>\n",
       "  <tbody>\n",
       "    <tr>\n",
       "      <th>0</th>\n",
       "      <td>68407277</td>\n",
       "      <td>NaN</td>\n",
       "      <td>3600.0</td>\n",
       "      <td>3600.0</td>\n",
       "      <td>3600.0</td>\n",
       "      <td>36 months</td>\n",
       "      <td>13.99</td>\n",
       "      <td>123.03</td>\n",
       "      <td>C</td>\n",
       "      <td>C4</td>\n",
       "      <td>...</td>\n",
       "      <td>NaN</td>\n",
       "      <td>NaN</td>\n",
       "      <td>Cash</td>\n",
       "      <td>N</td>\n",
       "      <td>NaN</td>\n",
       "      <td>NaN</td>\n",
       "      <td>NaN</td>\n",
       "      <td>NaN</td>\n",
       "      <td>NaN</td>\n",
       "      <td>NaN</td>\n",
       "    </tr>\n",
       "    <tr>\n",
       "      <th>1</th>\n",
       "      <td>68355089</td>\n",
       "      <td>NaN</td>\n",
       "      <td>24700.0</td>\n",
       "      <td>24700.0</td>\n",
       "      <td>24700.0</td>\n",
       "      <td>36 months</td>\n",
       "      <td>11.99</td>\n",
       "      <td>820.28</td>\n",
       "      <td>C</td>\n",
       "      <td>C1</td>\n",
       "      <td>...</td>\n",
       "      <td>NaN</td>\n",
       "      <td>NaN</td>\n",
       "      <td>Cash</td>\n",
       "      <td>N</td>\n",
       "      <td>NaN</td>\n",
       "      <td>NaN</td>\n",
       "      <td>NaN</td>\n",
       "      <td>NaN</td>\n",
       "      <td>NaN</td>\n",
       "      <td>NaN</td>\n",
       "    </tr>\n",
       "    <tr>\n",
       "      <th>2</th>\n",
       "      <td>68341763</td>\n",
       "      <td>NaN</td>\n",
       "      <td>20000.0</td>\n",
       "      <td>20000.0</td>\n",
       "      <td>20000.0</td>\n",
       "      <td>60 months</td>\n",
       "      <td>10.78</td>\n",
       "      <td>432.66</td>\n",
       "      <td>B</td>\n",
       "      <td>B4</td>\n",
       "      <td>...</td>\n",
       "      <td>NaN</td>\n",
       "      <td>NaN</td>\n",
       "      <td>Cash</td>\n",
       "      <td>N</td>\n",
       "      <td>NaN</td>\n",
       "      <td>NaN</td>\n",
       "      <td>NaN</td>\n",
       "      <td>NaN</td>\n",
       "      <td>NaN</td>\n",
       "      <td>NaN</td>\n",
       "    </tr>\n",
       "    <tr>\n",
       "      <th>3</th>\n",
       "      <td>66310712</td>\n",
       "      <td>NaN</td>\n",
       "      <td>35000.0</td>\n",
       "      <td>35000.0</td>\n",
       "      <td>35000.0</td>\n",
       "      <td>60 months</td>\n",
       "      <td>14.85</td>\n",
       "      <td>829.90</td>\n",
       "      <td>C</td>\n",
       "      <td>C5</td>\n",
       "      <td>...</td>\n",
       "      <td>NaN</td>\n",
       "      <td>NaN</td>\n",
       "      <td>Cash</td>\n",
       "      <td>N</td>\n",
       "      <td>NaN</td>\n",
       "      <td>NaN</td>\n",
       "      <td>NaN</td>\n",
       "      <td>NaN</td>\n",
       "      <td>NaN</td>\n",
       "      <td>NaN</td>\n",
       "    </tr>\n",
       "    <tr>\n",
       "      <th>4</th>\n",
       "      <td>68476807</td>\n",
       "      <td>NaN</td>\n",
       "      <td>10400.0</td>\n",
       "      <td>10400.0</td>\n",
       "      <td>10400.0</td>\n",
       "      <td>60 months</td>\n",
       "      <td>22.45</td>\n",
       "      <td>289.91</td>\n",
       "      <td>F</td>\n",
       "      <td>F1</td>\n",
       "      <td>...</td>\n",
       "      <td>NaN</td>\n",
       "      <td>NaN</td>\n",
       "      <td>Cash</td>\n",
       "      <td>N</td>\n",
       "      <td>NaN</td>\n",
       "      <td>NaN</td>\n",
       "      <td>NaN</td>\n",
       "      <td>NaN</td>\n",
       "      <td>NaN</td>\n",
       "      <td>NaN</td>\n",
       "    </tr>\n",
       "  </tbody>\n",
       "</table>\n",
       "<p>5 rows × 151 columns</p>\n",
       "</div>"
      ],
      "text/plain": [
       "         id  member_id  loan_amnt  funded_amnt  funded_amnt_inv        term  \\\n",
       "0  68407277        NaN     3600.0       3600.0           3600.0   36 months   \n",
       "1  68355089        NaN    24700.0      24700.0          24700.0   36 months   \n",
       "2  68341763        NaN    20000.0      20000.0          20000.0   60 months   \n",
       "3  66310712        NaN    35000.0      35000.0          35000.0   60 months   \n",
       "4  68476807        NaN    10400.0      10400.0          10400.0   60 months   \n",
       "\n",
       "   int_rate  installment grade sub_grade  ... hardship_payoff_balance_amount  \\\n",
       "0     13.99       123.03     C        C4  ...                            NaN   \n",
       "1     11.99       820.28     C        C1  ...                            NaN   \n",
       "2     10.78       432.66     B        B4  ...                            NaN   \n",
       "3     14.85       829.90     C        C5  ...                            NaN   \n",
       "4     22.45       289.91     F        F1  ...                            NaN   \n",
       "\n",
       "  hardship_last_payment_amount disbursement_method  debt_settlement_flag  \\\n",
       "0                          NaN                Cash                     N   \n",
       "1                          NaN                Cash                     N   \n",
       "2                          NaN                Cash                     N   \n",
       "3                          NaN                Cash                     N   \n",
       "4                          NaN                Cash                     N   \n",
       "\n",
       "  debt_settlement_flag_date settlement_status settlement_date  \\\n",
       "0                       NaN               NaN             NaN   \n",
       "1                       NaN               NaN             NaN   \n",
       "2                       NaN               NaN             NaN   \n",
       "3                       NaN               NaN             NaN   \n",
       "4                       NaN               NaN             NaN   \n",
       "\n",
       "  settlement_amount settlement_percentage settlement_term  \n",
       "0               NaN                   NaN             NaN  \n",
       "1               NaN                   NaN             NaN  \n",
       "2               NaN                   NaN             NaN  \n",
       "3               NaN                   NaN             NaN  \n",
       "4               NaN                   NaN             NaN  \n",
       "\n",
       "[5 rows x 151 columns]"
      ]
     },
     "execution_count": 5,
     "metadata": {},
     "output_type": "execute_result"
    }
   ],
   "source": [
    "raw_data.head()"
   ]
  },
  {
   "cell_type": "code",
   "execution_count": 6,
   "id": "7859bc64-aff1-443f-8368-610ef462d05d",
   "metadata": {},
   "outputs": [
    {
     "data": {
      "text/plain": [
       "0"
      ]
     },
     "execution_count": 6,
     "metadata": {},
     "output_type": "execute_result"
    }
   ],
   "source": [
    "raw_data.duplicated().sum()"
   ]
  },
  {
   "cell_type": "code",
   "execution_count": 7,
   "id": "80ae28de-9f07-4c96-b65d-0f324481d41f",
   "metadata": {},
   "outputs": [
    {
     "name": "stdout",
     "output_type": "stream",
     "text": [
      "id\n",
      "member_id\n",
      "loan_amnt\n",
      "funded_amnt\n",
      "funded_amnt_inv\n",
      "term\n",
      "int_rate\n",
      "installment\n",
      "grade\n",
      "sub_grade\n",
      "emp_title\n",
      "emp_length\n",
      "home_ownership\n",
      "annual_inc\n",
      "verification_status\n",
      "issue_d\n",
      "loan_status\n",
      "pymnt_plan\n",
      "url\n",
      "desc\n",
      "purpose\n",
      "title\n",
      "zip_code\n",
      "addr_state\n",
      "dti\n",
      "delinq_2yrs\n",
      "earliest_cr_line\n",
      "fico_range_low\n",
      "fico_range_high\n",
      "inq_last_6mths\n",
      "mths_since_last_delinq\n",
      "mths_since_last_record\n",
      "open_acc\n",
      "pub_rec\n",
      "revol_bal\n",
      "revol_util\n",
      "total_acc\n",
      "initial_list_status\n",
      "out_prncp\n",
      "out_prncp_inv\n",
      "total_pymnt\n",
      "total_pymnt_inv\n",
      "total_rec_prncp\n",
      "total_rec_int\n",
      "total_rec_late_fee\n",
      "recoveries\n",
      "collection_recovery_fee\n",
      "last_pymnt_d\n",
      "last_pymnt_amnt\n",
      "next_pymnt_d\n",
      "last_credit_pull_d\n",
      "last_fico_range_high\n",
      "last_fico_range_low\n",
      "collections_12_mths_ex_med\n",
      "mths_since_last_major_derog\n",
      "policy_code\n",
      "application_type\n",
      "annual_inc_joint\n",
      "dti_joint\n",
      "verification_status_joint\n",
      "acc_now_delinq\n",
      "tot_coll_amt\n",
      "tot_cur_bal\n",
      "open_acc_6m\n",
      "open_act_il\n",
      "open_il_12m\n",
      "open_il_24m\n",
      "mths_since_rcnt_il\n",
      "total_bal_il\n",
      "il_util\n",
      "open_rv_12m\n",
      "open_rv_24m\n",
      "max_bal_bc\n",
      "all_util\n",
      "total_rev_hi_lim\n",
      "inq_fi\n",
      "total_cu_tl\n",
      "inq_last_12m\n",
      "acc_open_past_24mths\n",
      "avg_cur_bal\n",
      "bc_open_to_buy\n",
      "bc_util\n",
      "chargeoff_within_12_mths\n",
      "delinq_amnt\n",
      "mo_sin_old_il_acct\n",
      "mo_sin_old_rev_tl_op\n",
      "mo_sin_rcnt_rev_tl_op\n",
      "mo_sin_rcnt_tl\n",
      "mort_acc\n",
      "mths_since_recent_bc\n",
      "mths_since_recent_bc_dlq\n",
      "mths_since_recent_inq\n",
      "mths_since_recent_revol_delinq\n",
      "num_accts_ever_120_pd\n",
      "num_actv_bc_tl\n",
      "num_actv_rev_tl\n",
      "num_bc_sats\n",
      "num_bc_tl\n",
      "num_il_tl\n",
      "num_op_rev_tl\n",
      "num_rev_accts\n",
      "num_rev_tl_bal_gt_0\n",
      "num_sats\n",
      "num_tl_120dpd_2m\n",
      "num_tl_30dpd\n",
      "num_tl_90g_dpd_24m\n",
      "num_tl_op_past_12m\n",
      "pct_tl_nvr_dlq\n",
      "percent_bc_gt_75\n",
      "pub_rec_bankruptcies\n",
      "tax_liens\n",
      "tot_hi_cred_lim\n",
      "total_bal_ex_mort\n",
      "total_bc_limit\n",
      "total_il_high_credit_limit\n",
      "revol_bal_joint\n",
      "sec_app_fico_range_low\n",
      "sec_app_fico_range_high\n",
      "sec_app_earliest_cr_line\n",
      "sec_app_inq_last_6mths\n",
      "sec_app_mort_acc\n",
      "sec_app_open_acc\n",
      "sec_app_revol_util\n",
      "sec_app_open_act_il\n",
      "sec_app_num_rev_accts\n",
      "sec_app_chargeoff_within_12_mths\n",
      "sec_app_collections_12_mths_ex_med\n",
      "sec_app_mths_since_last_major_derog\n",
      "hardship_flag\n",
      "hardship_type\n",
      "hardship_reason\n",
      "hardship_status\n",
      "deferral_term\n",
      "hardship_amount\n",
      "hardship_start_date\n",
      "hardship_end_date\n",
      "payment_plan_start_date\n",
      "hardship_length\n",
      "hardship_dpd\n",
      "hardship_loan_status\n",
      "orig_projected_additional_accrued_interest\n",
      "hardship_payoff_balance_amount\n",
      "hardship_last_payment_amount\n",
      "disbursement_method\n",
      "debt_settlement_flag\n",
      "debt_settlement_flag_date\n",
      "settlement_status\n",
      "settlement_date\n",
      "settlement_amount\n",
      "settlement_percentage\n",
      "settlement_term\n"
     ]
    }
   ],
   "source": [
    "for col in raw_data.columns:\n",
    "    print(col)"
   ]
  },
  {
   "cell_type": "code",
   "execution_count": 8,
   "id": "21135f44-c286-488a-ad6b-867887de30f6",
   "metadata": {},
   "outputs": [],
   "source": [
    "target = \"loan_status\""
   ]
  },
  {
   "cell_type": "code",
   "execution_count": 9,
   "id": "fcba8b09-ee23-4d71-805d-a38a9a0c719b",
   "metadata": {},
   "outputs": [
    {
     "data": {
      "text/plain": [
       "array(['Fully Paid', 'Current', 'Charged Off', 'In Grace Period',\n",
       "       'Late (31-120 days)', 'Late (16-30 days)', 'Default', nan,\n",
       "       'Does not meet the credit policy. Status:Fully Paid',\n",
       "       'Does not meet the credit policy. Status:Charged Off'],\n",
       "      dtype=object)"
      ]
     },
     "execution_count": 9,
     "metadata": {},
     "output_type": "execute_result"
    }
   ],
   "source": [
    "raw_data[target].unique()"
   ]
  },
  {
   "cell_type": "code",
   "execution_count": 10,
   "id": "4958240a-b35d-4a86-8ef2-804b89ddbf8f",
   "metadata": {},
   "outputs": [
    {
     "data": {
      "text/plain": [
       "id                             0\n",
       "member_id                2260701\n",
       "loan_amnt                     33\n",
       "funded_amnt                   33\n",
       "funded_amnt_inv               33\n",
       "                          ...   \n",
       "settlement_status        2226455\n",
       "settlement_date          2226455\n",
       "settlement_amount        2226455\n",
       "settlement_percentage    2226455\n",
       "settlement_term          2226455\n",
       "Length: 151, dtype: int64"
      ]
     },
     "execution_count": 10,
     "metadata": {},
     "output_type": "execute_result"
    }
   ],
   "source": [
    "# valeurs manquantes \n",
    "raw_data.isna().sum()"
   ]
  },
  {
   "cell_type": "code",
   "execution_count": 11,
   "id": "606f932c-e1bd-4d39-b944-50b53cf3d80a",
   "metadata": {},
   "outputs": [
    {
     "data": {
      "text/plain": [
       "array([dtype('O'), dtype('float64')], dtype=object)"
      ]
     },
     "execution_count": 11,
     "metadata": {},
     "output_type": "execute_result"
    }
   ],
   "source": [
    "raw_data.dtypes.unique()"
   ]
  },
  {
   "cell_type": "code",
   "execution_count": 12,
   "id": "79a7e5ff-b866-4938-8fb0-3dd647bc4a2b",
   "metadata": {},
   "outputs": [],
   "source": [
    "numerical_variable = []\n",
    "categorical_variable = []\n",
    "\n",
    "for elt in raw_data.columns:\n",
    "    if((raw_data[elt].dtype == \"float\") | (raw_data[elt].dtype == \"int\")):\n",
    "        numerical_variable.append(elt)\n",
    "    else:\n",
    "        categorical_variable.append(elt)\n",
    "\n"
   ]
  },
  {
   "cell_type": "code",
   "execution_count": 13,
   "id": "bed4d5dc-4654-4a18-8834-f6b8f4f20861",
   "metadata": {},
   "outputs": [
    {
     "data": {
      "text/plain": [
       "113"
      ]
     },
     "execution_count": 13,
     "metadata": {},
     "output_type": "execute_result"
    }
   ],
   "source": [
    "len (numerical_variable)"
   ]
  },
  {
   "cell_type": "code",
   "execution_count": 14,
   "id": "31541c49-7a76-4bd9-8f8f-f9e3be0f9ab7",
   "metadata": {},
   "outputs": [
    {
     "data": {
      "text/plain": [
       "38"
      ]
     },
     "execution_count": 14,
     "metadata": {},
     "output_type": "execute_result"
    }
   ],
   "source": [
    "len(categorical_variable)"
   ]
  },
  {
   "cell_type": "code",
   "execution_count": 15,
   "id": "d9062af1-c992-47a8-8454-a3a38309fb28",
   "metadata": {},
   "outputs": [
    {
     "data": {
      "text/plain": [
       "109"
      ]
     },
     "execution_count": 15,
     "metadata": {},
     "output_type": "execute_result"
    }
   ],
   "source": [
    "84 + 25"
   ]
  },
  {
   "cell_type": "markdown",
   "id": "34cb80bd-cef0-42f3-b735-c62d8b0ee305",
   "metadata": {},
   "source": [
    "## visualisation des donnees"
   ]
  },
  {
   "cell_type": "code",
   "execution_count": 16,
   "id": "9598ea07-a332-433f-9781-d7e09acdd0e2",
   "metadata": {},
   "outputs": [
    {
     "data": {
      "text/plain": [
       "<Axes: xlabel='loan_status'>"
      ]
     },
     "execution_count": 16,
     "metadata": {},
     "output_type": "execute_result"
    },
    {
     "data": {
      "image/png": "[encoded data removed]",
      "text/plain": [
       "<Figure size 640x480 with 1 Axes>"
      ]
     },
     "metadata": {},
     "output_type": "display_data"
    }
   ],
   "source": [
    "# Distribution de la target\n",
    "\n",
    "raw_data[target].value_counts(normalize = True).plot.bar()"
   ]
  },
  {
   "cell_type": "code",
   "execution_count": null,
   "id": "ce3b0fe2-1b04-4cb5-948d-f00d3f897978",
   "metadata": {},
   "outputs": [],
   "source": [
    "#distribution des valeurs numeriques\n",
    "for i in range(len(numerical_variable)):\n",
    "    plt.figure(figsize = (12, 8))\n",
    "    sns.histplot(raw_data, x = numerical_variable[i], kde = True,  hue = target)\n",
    "    plt.show()\n",
    "    plt.close()"
   ]
  },
  {
   "cell_type": "code",
   "execution_count": null,
   "id": "da55e8be-7596-4963-b2b2-b4bb1440e046",
   "metadata": {},
   "outputs": [],
   "source": [
    "#categorical_variable"
   ]
  },
  {
   "cell_type": "code",
   "execution_count": null,
   "id": "1e7687e2-018c-46b6-bb24-e33442cc1206",
   "metadata": {},
   "outputs": [],
   "source": [
    "update_data = raw_data[(raw_data[target] == \"Fully Paid\") | (raw_data[target] == \"Charged Off\")]"
   ]
  },
  {
   "cell_type": "code",
   "execution_count": null,
   "id": "54e1586a-0f67-4c71-a3f8-efa8e7d597d7",
   "metadata": {},
   "outputs": [],
   "source": [
    "update_data.shape"
   ]
  },
  {
   "cell_type": "code",
   "execution_count": null,
   "id": "a4212d9c-9c0c-4dc0-b91d-0edd1af2bea2",
   "metadata": {},
   "outputs": [],
   "source": [
    "raw_data.shape"
   ]
  },
  {
   "cell_type": "code",
   "execution_count": null,
   "id": "082ce82c-cfb0-40a0-aa91-e4cde0afa3f1",
   "metadata": {},
   "outputs": [],
   "source": [
    "plt.figure()\n",
    "update_data[target].value_counts(normalize = True).plot.bar()\n",
    "plt.show()\n",
    "#update_data.shape"
   ]
  },
  {
   "cell_type": "code",
   "execution_count": null,
   "id": "bff314af-d7fd-488a-9012-f9f5c8fa9336",
   "metadata": {},
   "outputs": [],
   "source": [
    "#for elt in numerical_variable:\n",
    "    #plt.figure(figsize = (12, 8))\n",
    "    #sns.histplot(update_data, x = update_data[elt], hue = target)\n",
    "    #plt.show()\n",
    "    #plt.close()"
   ]
  },
  {
   "cell_type": "code",
   "execution_count": null,
   "id": "1a266a4a-8af6-4c3a-a6e1-bae9c15aeb3f",
   "metadata": {},
   "outputs": [],
   "source": [
    "#correlation entre mes variables\n",
    "sns.heatmap(update_data[numerical_variable].corr())"
   ]
  },
  {
   "cell_type": "code",
   "execution_count": null,
   "id": "09c487b2-8453-4257-9329-b6cd6ab27f9b",
   "metadata": {},
   "outputs": [],
   "source": [
    "plt.figure()\n",
    "plt.scatter(update_data[\"total_acc\"], update_data[\"last_fico_range_low\"])"
   ]
  },
  {
   "cell_type": "code",
   "execution_count": null,
   "id": "cd290f11-cbc5-404e-8b47-9fadab18a57a",
   "metadata": {},
   "outputs": [],
   "source": [
    "# les valeurs aberrantes\n",
    "for variable in numerical_variable[1:]:\n",
    "    plt.figure(figsize = (8, 4))\n",
    "    sns.boxplot(data = update_data, y = variable)\n",
    "    plt.show()\n",
    "    plt.close()"
   ]
  },
  {
   "cell_type": "code",
   "execution_count": null,
   "id": "84371ab7-9c99-4bef-8ebf-c506402541b2",
   "metadata": {},
   "outputs": [],
   "source": []
  }
 ],
 "metadata": {
  "kernelspec": {
   "display_name": "Python [conda env:base] *",
   "language": "python",
   "name": "conda-base-py"
  },
  "language_info": {
   "codemirror_mode": {
    "name": "ipython",
    "version": 3
   },
   "file_extension": ".py",
   "mimetype": "text/x-python",
   "name": "python",
   "nbconvert_exporter": "python",
   "pygments_lexer": "ipython3",
   "version": "3.12.7"
  }
 },
 "nbformat": 4,
 "nbformat_minor": 5
}
